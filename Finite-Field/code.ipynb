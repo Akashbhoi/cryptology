{
 "cells": [
  {
   "cell_type": "code",
   "execution_count": null,
   "metadata": {},
   "outputs": [],
   "source": [
    "passArr = []\n",
    "val = [21, 24, 80, 101, 82, 79, 43, 31, 43, 30, 122, 117, 87, 100, 79, 32, 108, 68, 67, 56, 9, 51, 4, 4, 65, 84, 43, 64, 120, 51, 42, 72]\n",
    "eig =[1,0,0,0,0,0,0,0,0,0,0,0,0,0,0,0,0,0,0,0,0,0,0,0,0,0,0,0,0,0,0,0]\n",
    "n = 127\n",
    "   "
   ]
  },
  {
   "cell_type": "code",
   "execution_count": null,
   "metadata": {},
   "outputs": [],
   "source": [
    "def cond(summation,root,passArr,i):\n",
    "    if summation==0:\n",
    "        root.append(i)\n",
    "        passArr.append(i)\n",
    "    return"
   ]
  },
  {
   "cell_type": "code",
   "execution_count": null,
   "metadata": {},
   "outputs": [],
   "source": [
    "for i in range(1,32):\n",
    "  summation=0\n",
    "  for j in range(1,i+1):\n",
    "    summation+= ((eig[i-j]*val[j])%n *((-1)**(j-1)))\n",
    "    summation=summation%127\n",
    "  eig[i]=summation%127\n",
    "  for s in range(127):\n",
    "    if (s*i)%127==eig[i]:\n",
    "      eig[i]=s\n",
    "      break\n",
    "  print(eig[i]) "
   ]
  },
  {
   "cell_type": "code",
   "execution_count": null,
   "metadata": {},
   "outputs": [],
   "source": [
    "root=[]\n",
    "for i in range(127):\n",
    "  summation=0\n",
    "  for j in range(22):\n",
    "    summation += (i**(21-j)%127*eig[j])%127 *((-1)**j)   \n",
    "    summation=summation%127\n",
    "  cond(summation,root,passArr,i)\n",
    "\n",
    "print(root)\n",
    "print(len(root))\n",
    "    "
   ]
  },
  {
   "cell_type": "code",
   "execution_count": null,
   "metadata": {},
   "outputs": [],
   "source": [
    "n_pass=[6]\n",
    "for i in range(1,32):\n",
    "  summation=0\n",
    "  for j in range(len(root)):\n",
    "    summation+= (root[j]**i)%127\n",
    "    summation=summation%127\n",
    "  n_pass.append((val[i]-summation)%127)\n",
    "\n",
    "print(n_pass)\n",
    "\n",
    "     "
   ]
  },
  {
   "cell_type": "code",
   "execution_count": null,
   "metadata": {},
   "outputs": [],
   "source": [
    "\n",
    "eig=[1,0,0,0,0,0,0,0,0,0,0,0,0,0,0,0,0,0,0,0,0,0,0,0,0,0,0,0,0,0,0,0]\n",
    "for i in range(1,32):\n",
    "  summation=0\n",
    "  for j in range(1,i+1):\n",
    "    summation+= ((eig[i-j]*n_pass[j])%n *((-1)**(j-1)))\n",
    "    summation=summation%127\n",
    "  eig[i]=summation%127\n",
    "  for s in range(127):\n",
    "    if (s*i)%127==eig[i]:\n",
    "      eig[i]=s\n",
    "      break"
   ]
  },
  {
   "cell_type": "code",
   "execution_count": null,
   "metadata": {},
   "outputs": [],
   "source": [
    "root=[]\n",
    "for i in range(127):\n",
    "  summation=0\n",
    "  for j in range(7):\n",
    "    summation += (i**(6-j)%127*eig[j])%127 *((-1)**j)   \n",
    "    summation=summation%127\n",
    "  cond(summation,root,passArr,i)\n",
    "print(root)    "
   ]
  },
  {
   "cell_type": "code",
   "execution_count": null,
   "metadata": {},
   "outputs": [],
   "source": [
    "pp=[1]\n",
    "for i in range(1,32):\n",
    "  summation=0\n",
    "  for j in range(len(root)):\n",
    "    summation+= (root[j]**i)%127\n",
    "    summation=summation%127\n",
    "  pp.append((n_pass[i]-summation)%127)\n",
    "\n",
    "\n",
    "eig=[1,0,0,0,0,0,0,0,0,0,0,0,0,0,0,0,0,0,0,0,0,0,0,0,0,0,0,0,0,0,0,0]\n",
    "for i in range(1,32):\n",
    "  summation=0\n",
    "  for j in range(1,i+1):\n",
    "    summation+= ((eig[i-j]*pp[j])%n *((-1)**(j-1)))\n",
    "    summation=summation%127\n",
    "  eig[i]=summation%127\n",
    "  for s in range(127):\n",
    "    if (s*i)%127==eig[i]:\n",
    "      eig[i]=s\n",
    "      break\n",
    "  print(eig[i])  \n"
   ]
  },
  {
   "cell_type": "code",
   "execution_count": null,
   "metadata": {},
   "outputs": [],
   "source": [
    "root=[]\n",
    "for i in range(127):\n",
    "  summation=0\n",
    "  for j in range(2):\n",
    "    summation += (i**(1-j)%127*eig[j])%127 *((-1)**j)   \n",
    "    summation=summation%127\n",
    "  cond(summation,root,passArr,i)\n",
    "\n",
    "\n",
    "\n",
    "\n"
   ]
  },
  {
   "cell_type": "code",
   "execution_count": null,
   "metadata": {},
   "outputs": [],
   "source": [
    "def extractPassword(passArr):\n",
    "    passArr.sort()\n",
    "    password = \"\"\n",
    "    for i in passArr:\n",
    "        password += chr(i)\n",
    "    return password\n",
    "\n",
    "print(extractPassword(passArr))"
   ]
  }
 ],
 "metadata": {
  "interpreter": {
   "hash": "916dbcbb3f70747c44a77c7bcd40155683ae19c65e1c03b4aa3499c5328201f1"
  },
  "kernelspec": {
   "display_name": "Python 3.8.10 64-bit",
   "language": "python",
   "name": "python3"
  },
  "language_info": {
   "codemirror_mode": {
    "name": "ipython",
    "version": 3
   },
   "file_extension": ".py",
   "mimetype": "text/x-python",
   "name": "python",
   "nbconvert_exporter": "python",
   "pygments_lexer": "ipython3",
   "version": "3.8.10"
  },
  "orig_nbformat": 4
 },
 "nbformat": 4,
 "nbformat_minor": 2
}
