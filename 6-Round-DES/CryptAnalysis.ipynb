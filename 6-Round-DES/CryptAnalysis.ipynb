{
 "cells": [
  {
   "cell_type": "code",
   "execution_count": 1,
   "id": "c6ff539b",
   "metadata": {},
   "outputs": [],
   "source": [
    "import operator"
   ]
  },
  {
   "cell_type": "code",
   "execution_count": 2,
   "id": "9a7059ac",
   "metadata": {},
   "outputs": [],
   "source": [
    "# Hexadecimal to binary conversion \n",
    "def hex2bin(s): \n",
    "    mp = {'0' : \"0000\",  \n",
    "          '1' : \"0001\", \n",
    "          '2' : \"0010\",  \n",
    "          '3' : \"0011\", \n",
    "          '4' : \"0100\", \n",
    "          '5' : \"0101\",  \n",
    "          '6' : \"0110\", \n",
    "          '7' : \"0111\",  \n",
    "          '8' : \"1000\", \n",
    "          '9' : \"1001\",  \n",
    "          'A' : \"1010\", \n",
    "          'B' : \"1011\",  \n",
    "          'C' : \"1100\", \n",
    "          'D' : \"1101\",  \n",
    "          'E' : \"1110\", \n",
    "          'F' : \"1111\" } \n",
    "    bin = \"\"\n",
    "    n1 = len(s)\n",
    "    for i in range(0,n1): \n",
    "        bin+=mp[s[i]] \n",
    "    return bin\n",
    "      \n",
    "# Binary to hexadecimal conversion \n",
    "def bin2hex(s): \n",
    "    mp = {\"0000\" : '0',  \n",
    "          \"0001\" : '1', \n",
    "          \"0010\" : '2',  \n",
    "          \"0011\" : '3', \n",
    "          \"0100\" : '4', \n",
    "          \"0101\" : '5',  \n",
    "          \"0110\" : '6', \n",
    "          \"0111\" : '7',  \n",
    "          \"1000\" : '8', \n",
    "          \"1001\" : '9',  \n",
    "          \"1010\" : 'A', \n",
    "          \"1011\" : 'B',  \n",
    "          \"1100\" : 'C', \n",
    "          \"1101\" : 'D',  \n",
    "          \"1110\" : 'E', \n",
    "          \"1111\" : 'F' } \n",
    "    hex = \"\" \n",
    "    n1= len(s)\n",
    "    for i in range(0,n1,4): \n",
    "        ch = \"\" \n",
    "        ch = ch + s[i] \n",
    "        ch = ch + s[i + 1]  \n",
    "        ch = ch + s[i + 2]  \n",
    "        ch = ch + s[i + 3]  \n",
    "        hex+=mp[ch] \n",
    "          \n",
    "    return hex\n",
    "  \n",
    "# Binary to decimal conversion \n",
    "def bin2dec(binary):  \n",
    "        \n",
    "    binary1 = binary  \n",
    "    decimal, i, n = 0, 0, 0\n",
    "    while(binary != 0):  \n",
    "        dec = binary % 10\n",
    "        decimal = decimal + dec * pow(2, i)  \n",
    "        binary = binary//10\n",
    "        i += 1\n",
    "    return decimal \n",
    "  \n",
    "# Decimal to binary conversion \n",
    "def dec2bin(num):  \n",
    "    res = bin(num).replace(\"0b\", \"\") \n",
    "    if(len(res)%4 != 0): \n",
    "        div = len(res) / 4\n",
    "        div = int(div) \n",
    "        counter =(4 * (div + 1)) - len(res)  \n",
    "        for i in range(0, counter): \n",
    "            res = '0' + res \n",
    "    return res \n",
    "  \n",
    "# Permute function to rearrange the bits \n",
    "def permute(k, arr, n): \n",
    "    permutation = \"\" \n",
    "    for i in range(0, n): \n",
    "        permutation = permutation + k[arr[i] - 1] \n",
    "    return permutation \n",
    "  \n",
    "# shifting the bits towards left by nth shifts \n",
    "def shift_left(k, nth_shifts): \n",
    "    s = \"\" \n",
    "    for i in range(nth_shifts):\n",
    "        n2 = len(k)\n",
    "        for j in range(1,n2): \n",
    "            s+= k[j] \n",
    "        s+= k[0] \n",
    "        k = s \n",
    "        s = \"\"  \n",
    "    return k     \n",
    "  \n",
    "# calculating xor of two strings of binary number a and b \n",
    "def xor(a, b): \n",
    "    ans = \"\"\n",
    "    n2 = len(a)\n",
    "    for i in range(0,n2): \n",
    "        if a[i] == b[i]: \n",
    "            ans+=\"0\"\n",
    "        else: \n",
    "            ans+=\"1\"\n",
    "    return ans \n",
    "\n",
    "#\n",
    "#Permutation matrix 1 for key schedule\n",
    "pc1=[                  \n",
    "  57, 49, 41, 33, 25, 17, 9,\n",
    "  1, 58, 50, 42, 34, 26, 18,\n",
    "  10,  2, 59, 51, 43, 35, 27,\n",
    "  19, 11,  3, 60, 52, 44, 36,\n",
    "  63, 55, 47, 39, 31, 23, 15, \n",
    "  7, 62, 54, 46, 38, 30, 22, \n",
    "  14,  6, 61, 53, 45, 37, 29, \n",
    "  21, 13,  5, 28, 20, 12,  4\n",
    "]\n",
    "#Permutation matrix 2 for key schedule\n",
    "pc2 = [                 \n",
    "  14, 17, 11, 24,  1, 5, \n",
    "  3, 28 ,15,  6, 21, 10, \n",
    "  23, 19, 12,  4, 26, 8, \n",
    "  16,  7, 27, 20, 13, 2, \n",
    "  41, 52, 31, 37, 47, 55, \n",
    "  30, 40, 51, 45, 33, 48, \n",
    "  44, 49, 39, 56, 34, 53, \n",
    "  46, 42, 50, 36, 29, 32\n",
    "]\n",
    "#Inverse of P\n",
    "INV_P = [9, 17, 23, 31,\n",
    "\t      13, 28,  2, 18,\n",
    "\t      24, 16, 30,  6,\n",
    "\t      26, 20, 10,  1,\n",
    "\t       8, 14, 25,  3,\n",
    "\t       4, 29, 11, 19,\n",
    "\t      32, 12, 22,  7,\n",
    "\t       5, 27, 15, 21\n",
    "         ]\n",
    "# Table of Position of 64 bits at initail level: Initial Permutation Table \n",
    "initial_perm = [58, 50, 42, 34, 26, 18, 10, 2,  \n",
    "                60, 52, 44, 36, 28, 20, 12, 4,  \n",
    "                62, 54, 46, 38, 30, 22, 14, 6,  \n",
    "                64, 56, 48, 40, 32, 24, 16, 8,  \n",
    "                57, 49, 41, 33, 25, 17, 9, 1,  \n",
    "                59, 51, 43, 35, 27, 19, 11, 3,  \n",
    "                61, 53, 45, 37, 29, 21, 13, 5,  \n",
    "                63, 55, 47, 39, 31, 23, 15, 7]  \n",
    "  \n",
    "# Expansion E-box Table \n",
    "exp_d = [32, 1 , 2 , 3 , 4 , 5 , 4 , 5,  \n",
    "         6 , 7 , 8 , 9 , 8 , 9 , 10, 11,  \n",
    "         12, 13, 12, 13, 14, 15, 16, 17,  \n",
    "         16, 17, 18, 19, 20, 21, 20, 21,  \n",
    "         22, 23, 24, 25, 24, 25, 26, 27,  \n",
    "         28, 29, 28, 29, 30, 31, 32, 1 ] \n",
    "  \n",
    "# Straight Permutaion Table \n",
    "per = [ 16,  7, 20, 21, \n",
    "        29, 12, 28, 17,  \n",
    "         1, 15, 23, 26,  \n",
    "         5, 18, 31, 10,  \n",
    "         2,  8, 24, 14,  \n",
    "        32, 27,  3,  9,  \n",
    "        19, 13, 30,  6,  \n",
    "        22, 11,  4, 25 ] \n",
    "  \n",
    "# S-box Table \n",
    "sbox = [[[14, 4, 13, 1, 2, 15, 11, 8, 3 , 10, 6, 12, 5, 9, 0, 7],\n",
    "    [0, 15, 7, 4, 14, 2, 13, 1, 10, 6, 12, 11, 9, 5, 3, 8],\n",
    "    [4, 1 , 14, 8, 13, 6, 2, 11, 15, 12, 9, 7,3, 10, 5, 0],\n",
    "    [15, 12, 8,2,4, 9, 1,7 , 5, 11, 3, 14, 10, 0, 6, 13]],\n",
    "\n",
    "    [[15, 1, 8, 14, 6, 11, 3, 4, 9, 7, 2, 13, 12, 0,5, 10],\n",
    "    [3, 13, 4, 7, 15, 2, 8, 14, 12, 0, 1, 10, 6, 9, 11, 5],\n",
    "    [0, 14, 7, 11, 10, 4, 13, 1, 5, 8,12, 6, 9, 3, 2, 15],\n",
    "    [13, 8, 10, 1, 3, 15, 4, 2,11,6, 7, 12, 0,5, 14, 9]],\n",
    "\n",
    "    [[10, 0, 9,14,6,3,15,5, 1, 13, 12, 7, 11, 4,2,8],\n",
    "    [13, 7, 0, 9, 3, 4, 6, 10, 2, 8, 5, 14, 12, 11, 15, 1],\n",
    "    [13, 6, 4, 9, 8, 15, 3, 0, 11, 1, 2, 12,5, 10, 14, 7],\n",
    "    [1, 10, 13, 0, 6, 9, 8, 7, 4, 15, 14, 3, 11, 5, 2, 12]],\n",
    "\n",
    "    [[7, 13, 14, 3, 0, 6, 9, 10, 1, 2, 8, 5, 11, 12, 4, 15],\n",
    "    [13, 8, 11, 5, 6, 15, 0, 3, 4, 7, 2, 12, 1, 10, 14, 9],\n",
    "    [10, 6, 9, 0, 12, 11, 7, 13, 15, 1 , 3, 14, 5, 2, 8, 4],\n",
    "    [3, 15, 0, 6, 10, 1, 13, 8, 9, 4, 5, 11, 12, 7, 2, 14]],\n",
    "\n",
    "    [[2, 12, 4, 1, 7, 10, 11, 6, 8, 5, 3, 15, 13, 0, 14, 9],\n",
    "    [14, 11,2, 12, 4, 7, 13, 1, 5, 0, 15, 10, 3, 9, 8, 6],\n",
    "    [4, 2, 1, 11, 10, 13, 7, 8, 15, 9, 12, 5, 6, 3, 0, 14],\n",
    "    [11, 8, 12, 7, 1, 14, 2, 13, 6, 15, 0, 9, 10, 4, 5, 3]],\n",
    "\n",
    "    [[12, 1, 10, 15, 9, 2, 6,8, 0, 13, 3, 4, 14, 7, 5, 11],\n",
    "    [10, 15, 4, 2, 7, 12, 9, 5, 6, 1, 13, 14, 0, 11, 3, 8],\n",
    "    [9, 14, 15, 5, 2,8, 12, 3, 7, 0, 4, 10, 1, 13, 11, 6],\n",
    "    [4, 3, 2, 12, 9, 5, 15, 10, 11, 14, 1, 7, 6, 0, 8, 13]],\n",
    "\n",
    "    [[4, 11, 2, 14, 15, 0, 8, 13, 3, 12, 9, 7, 5, 10, 6, 1],\n",
    "    [13, 0, 11, 7, 4, 9, 1, 10, 14, 3, 5, 12, 2, 15, 8, 6],\n",
    "    [1, 4, 11, 13, 12, 3, 7, 14, 10, 15, 6, 8, 0, 5, 9, 2],\n",
    "    [6, 11, 13, 8, 1, 4, 10, 7, 9, 5, 0, 15, 14, 2, 3, 12]],\n",
    "\n",
    "    [[13, 2, 8, 4, 6, 15, 11, 1, 10, 9, 3, 14, 5, 0, 12,7],\n",
    "    [1, 15, 13, 8, 10, 3, 7, 4, 12, 5, 6, 11, 0, 14, 9, 2],\n",
    "    [7, 11, 4, 1, 9, 12, 14, 2, 0, 6, 10, 13, 15, 3, 5, 8],\n",
    "    [2, 1, 14, 7, 4, 10, 8, 13, 15, 12, 9, 0, 3, 5, 6, 11]]] \n",
    "    \n",
    "\n",
    "final_perm = [ 40, 8, 48, 16, 56, 24, 64, 32,  \n",
    "               39, 7, 47, 15, 55, 23, 63, 31,  \n",
    "               38, 6, 46, 14, 54, 22, 62, 30,  \n",
    "               37, 5, 45, 13, 53, 21, 61, 29,  \n",
    "               36, 4, 44, 12, 52, 20, 60, 28,  \n",
    "               35, 3, 43, 11, 51, 19, 59, 27,  \n",
    "               34, 2, 42, 10, 50, 18, 58, 26,  \n",
    "               33, 1, 41, 9, 49, 17, 57, 25 ] \n",
    "\n",
    "f2u_mapping={'d': '0000',\n",
    "             'e': '0001',\n",
    "             'f': '0010',\n",
    "             'g': '0011',\n",
    "             'h': '0100',\n",
    "             'i': '0101',\n",
    "             'j': '0110',\n",
    "             'k': '0111',\n",
    "             'l': '1000',\n",
    "             'm': '1001',\n",
    "             'n': '1010',\n",
    "             'o': '1011',\n",
    "             'p': '1100',\n",
    "             'q': '1101',\n",
    "             'r': '1110',\n",
    "             's': '1111'}\n",
    "     \n",
    "\n",
    "# --parity bit drop table \n",
    "keyp = [57, 49, 41, 33, 25, 17, 9,  \n",
    "        1, 58, 50, 42, 34, 26, 18,  \n",
    "        10, 2, 59, 51, 43, 35, 27,  \n",
    "        19, 11, 3, 60, 52, 44, 36,  \n",
    "        63, 55, 47, 39, 31, 23, 15,  \n",
    "        7, 62, 54, 46, 38, 30, 22,  \n",
    "        14, 6, 61, 53, 45, 37, 29,  \n",
    "        21, 13, 5, 28, 20, 12, 4 ] \n",
    "\n",
    "\n",
    "RFP = [57, 49, 41, 33, 25, 17, 9,  1,\n",
    "       59, 51, 43, 35, 27, 19, 11, 3,\n",
    "       61, 53, 45, 37, 29, 21, 13, 5,\n",
    "       63, 55, 47, 39, 31, 23, 15, 7,\n",
    "       58, 50, 42, 34, 26, 18, 10, 2,\n",
    "       60, 52, 44, 36, 28, 20, 12, 4,\n",
    "       62, 54, 46, 38, 30, 22, 14, 6,\n",
    "       64, 56, 48, 40, 32, 24, 16, 8]\n",
    "\n",
    "#shift table \n",
    "shift_table = [1, 1, 2, 2,  \n",
    "                2, 2, 2, 2,  \n",
    "                1, 2, 2, 2,  \n",
    "                2, 2, 2, 1 ] \n",
    "  \n",
    "# Key- Compression Table : Compression of key from 56 bits to 48 bits \n",
    "key_comp = [14, 17, 11, 24, 1, 5,  \n",
    "            3, 28, 15, 6, 21, 10,  \n",
    "            23, 19, 12, 4, 26, 8,  \n",
    "            16, 7, 27, 20, 13, 2,  \n",
    "            41, 52, 31, 37, 47, 55,  \n",
    "            30, 40, 51, 45, 33, 48,  \n",
    "            44, 49, 39, 56, 34, 53,  \n",
    "            46, 42, 50, 36, 29, 32 ] \n",
    "  "
   ]
  },
  {
   "cell_type": "markdown",
   "id": "72272509",
   "metadata": {},
   "source": [
    "## Computing XORs at IN and OUT of S-boxes for characteristic 1"
   ]
  },
  {
   "cell_type": "code",
   "execution_count": 3,
   "id": "32d70582",
   "metadata": {},
   "outputs": [],
   "source": [
    "import numpy as np"
   ]
  },
  {
   "cell_type": "code",
   "execution_count": 4,
   "id": "90cc3bcf",
   "metadata": {},
   "outputs": [],
   "source": [
    "#create hex mapping of 16 letters present in ciphertext. f=0, g=1 ,so on...\n",
    "mapping = {\n",
    "           'd' : [0,0,0,0],\n",
    "           'e' : [0,0,0,1],\n",
    "           'f' : [0,0,1,0],\n",
    "           'g' : [0,0,1,1],\n",
    "           'h' : [0,1,0,0],\n",
    "           'i' : [0,1,0,1],\n",
    "           'j' : [0,1,1,0],\n",
    "           'k' : [0,1,1,1],\n",
    "           'l' : [1,0,0,0],\n",
    "           'm' : [1,0,0,1],\n",
    "           'n' : [1,0,1,0],\n",
    "           'o' : [1,0,1,1],\n",
    "           'p' : [1,1,0,0],\n",
    "           'q' : [1,1,0,1],\n",
    "           'r' : [1,1,1,0],\n",
    "           's' : [1,1,1,1]\n",
    "           }"
   ]
  },
  {
   "cell_type": "code",
   "execution_count": 5,
   "id": "e842cdf0",
   "metadata": {},
   "outputs": [],
   "source": [
    "#list of all ciphertexts in hex as per mapping\n",
    "cipher=[]\n",
    "#read in the output file after encrypting plaintexts from input.txt\n",
    "lines = open(\"ciphertexts1.txt\").read().split(\"\\n\")\n",
    "\n",
    "n=len(lines)\n",
    "for i in range(0,n):\n",
    "  #checking if a ciphertext is not of 16 letters\n",
    "    if(len(lines[i]) == 16):\n",
    "        #temp list\n",
    "        st=[]\n",
    "        for j in range(16):\n",
    "            st+=mapping[lines[i][j]]\n",
    "        cipher+=[st]    \n",
    "#print(cipher[0])"
   ]
  },
  {
   "cell_type": "code",
   "execution_count": 6,
   "id": "7a749f85",
   "metadata": {},
   "outputs": [],
   "source": [
    "#applying inverse final permutation on each 64 (=16*4) bit ciphertext\n",
    "n=len(cipher)\n",
    "ifp_res = []\n",
    "for i in range(0,n):\n",
    "    ifp_res2 = []\n",
    "    for j in range(64):\n",
    "        ifp_res2+=[cipher[i][RFP[j]-1]]\n",
    "    ifp_res+=[ifp_res2]\n",
    "#print(ifp_res2[0:10])"
   ]
  },
  {
   "cell_type": "code",
   "execution_count": 7,
   "id": "35d23e9b",
   "metadata": {},
   "outputs": [],
   "source": [
    "#XOR of inverse permuted ciphertext's result\n",
    "ifp_XOR=[]\n",
    "for i in range(0,n//2):\n",
    "    ifp_XOR+= [list(np.bitwise_xor(ifp_res[2*i+1],ifp_res[2*i]))]"
   ]
  },
  {
   "cell_type": "code",
   "execution_count": 8,
   "id": "1902d697",
   "metadata": {},
   "outputs": [],
   "source": [
    "#Expansion of R5\n",
    "exp_out=[]\n",
    "for i in range(0,n):\n",
    "    exp_out2=[]\n",
    "    for j in range(0,48):\n",
    "        exp_out2+=[ifp_res[i][exp_d[j]-1]]\n",
    "    exp_out+=[exp_out2]\n",
    "#print(exp_out[0])"
   ]
  },
  {
   "cell_type": "code",
   "execution_count": 9,
   "id": "b13d1946",
   "metadata": {},
   "outputs": [],
   "source": [
    "#XOR of expanded outputs to find inputs to s-boxes\n",
    "sbox_in=[]\n",
    "for i in range(0,n//2):\n",
    "    sbox_in+= [list(np.bitwise_xor(exp_out[2*i+1],exp_out[2*i]))]\n",
    "#print(sbox_in[0])            "
   ]
  },
  {
   "cell_type": "code",
   "execution_count": 10,
   "id": "f4a59b04",
   "metadata": {},
   "outputs": [],
   "source": [
    "#XOR of L5 and R6 from inverse permuted ciphertexts\n",
    "L5 = [0,0,0,0,0,1]+[0]*26\n",
    "xor_out=[]\n",
    "for i in range(0,len(ifp_XOR)):\n",
    "    xor_out+=[list(np.bitwise_xor(ifp_XOR[i][32:64],L5))]"
   ]
  },
  {
   "cell_type": "code",
   "execution_count": 11,
   "id": "ca4c9a4e",
   "metadata": {},
   "outputs": [],
   "source": [
    "#XOR of outputs after s-boxes\n",
    "sbox_out = []\n",
    "for i in range(0,len(xor_out)):\n",
    "    sbox_out2=[]\n",
    "    for j in range(0,32):\n",
    "        sbox_out2+=[xor_out[i][INV_P[j]-1]]\n",
    "    sbox_out+=[sbox_out2]"
   ]
  },
  {
   "cell_type": "code",
   "execution_count": 12,
   "id": "92316de1",
   "metadata": {},
   "outputs": [],
   "source": [
    "#storing expanded outputs\n",
    "with open(\"exp_out1.txt\",\"w\") as f:\n",
    "    n1 = len(exp_out)\n",
    "    for i in range(0,n1):\n",
    "        if(i%2!=1):\n",
    "            temp=\"\"\n",
    "            for j in exp_out[i]:\n",
    "                temp+=str(j)\n",
    "            f.write(temp+\"\\n\")\n",
    "f.close()"
   ]
  },
  {
   "cell_type": "code",
   "execution_count": 13,
   "id": "986bd569",
   "metadata": {},
   "outputs": [],
   "source": [
    "#storing inputs to s-boxes\n",
    "with open(\"sbox_in1.txt\",\"w\") as f:\n",
    "    for i in sbox_in:\n",
    "        temp=\"\"\n",
    "        for j in i:\n",
    "            temp+=str(j)\n",
    "        f.write(temp+\"\\n\")\n",
    "f.close()"
   ]
  },
  {
   "cell_type": "code",
   "execution_count": 14,
   "id": "58d871e3",
   "metadata": {},
   "outputs": [],
   "source": [
    "#storing outputs of s-boxes\n",
    "with open(\"sbox_out1.txt\",\"w\") as f:\n",
    "    for i in sbox_out:\n",
    "        temp=\"\"\n",
    "        for j in i:\n",
    "            temp+=str(j)\n",
    "        f.write(temp+\"\\n\")\n",
    "f.close()"
   ]
  },
  {
   "cell_type": "markdown",
   "id": "76f5844a",
   "metadata": {},
   "source": [
    "## Finding the Keys for S-Boxes of Round 6 for characteristic 1"
   ]
  },
  {
   "cell_type": "code",
   "execution_count": 15,
   "id": "a2ad11a6",
   "metadata": {},
   "outputs": [],
   "source": [
    "Keys = np.zeros((8,64))"
   ]
  },
  {
   "cell_type": "code",
   "execution_count": 16,
   "id": "fe9336ae",
   "metadata": {},
   "outputs": [],
   "source": [
    "sbox_in=[]\n",
    "sbox_out=[]\n",
    "exp_out=[]\n",
    "sbox_in = open(\"sbox_in1.txt\").read().split(\"\\n\")\n",
    "sbox_out = open(\"sbox_out1.txt\").read().split(\"\\n\")\n",
    "exp_out = open(\"exp_out1.txt\").read().split(\"\\n\")"
   ]
  },
  {
   "cell_type": "code",
   "execution_count": 17,
   "id": "6799e657",
   "metadata": {},
   "outputs": [],
   "source": [
    "for i in range(len(sbox_in)):\n",
    "    if sbox_in[i]==\"\":\n",
    "        continue     \n",
    "    for j in range(0,8):\n",
    "        inx = int(sbox_in[i][j*6:j*6+6], 2)\n",
    "        outx = int(sbox_out[i][j*4:j*4+4], 2)\n",
    "        inp_orig = int(exp_out[i][j*6:j*6+6], 2)\n",
    "        for k in range(0,64):\n",
    "            a = bin(k)[2:].zfill(6)\n",
    "            b = bin(k^inx)[2:].zfill(6)  \n",
    "            if outx == sbox[j][int(a[0])*2 + int(a[5])][int(a[4]) + 2 *int(a[3]) + int(a[2]) * 4 + int(a[1])*8]^sbox[j][int(b[0])*2 + int(b[5])][int(b[4]) + 2 *int(b[3]) + int(b[2]) * 4 + int(b[1])*8]:\n",
    "                key_cand = k^inp_orig\n",
    "                Keys[j][key_cand] = Keys[j][key_cand] + 1"
   ]
  },
  {
   "cell_type": "code",
   "execution_count": 18,
   "id": "4af2e825",
   "metadata": {
    "scrolled": false
   },
   "outputs": [
    {
     "name": "stdout",
     "output_type": "stream",
     "text": [
      "[[ 60.  60.  64.  61.  65.  66.  41.  58.  54.  66.  70.  50.  76.  59.\n",
      "   55.  66.  71.  66.  67.  77.  46.  63.  53.  62.  68.  64.  67.  67.\n",
      "   64.  63.  67.  58.  62.  74.  62.  60.  79.  65.  59.  46.  50.  65.\n",
      "   57.  71.  70. 128.  59.  68.  79.  62.  65.  73.  65.  59.  50.  65.\n",
      "   64.  79.  55.  62.  58.  55.  61.  45.]\n",
      " [ 71.  71.  92.  68.  81.  79.  85.  68.  87.  74.  75.  82.  65.  73.\n",
      "   83.  68.  70.  75.  83.  66.  67.  68.  78.  70.  61.  66.  71.  80.\n",
      "   64.  74. 100.  88.  79.  55.  79.  72.  71.  70.  92.  91.  75.  73.\n",
      "   78.  68.  73.  44.  86.  65.  67.  76.  66. 101.  71.  83.  68.  73.\n",
      "   76.  57.  77. 292.  67.  79.  67.  74.]\n",
      " [ 69.  56.  65.  70.  56.  55.  63.  62.  71.  70.  77.  62.  71.  64.\n",
      "   70.  67.  68.  63.  58.  66.  58.  71.  63.  76.  64.  55.  54.  67.\n",
      "   68.  53.  57.  67.  69.  69.  61.  66.  64. 118.  67.  50.  56.  58.\n",
      "   59.  69.  56.  71.  61.  69.  78.  64.  62.  68.  68.  65.  64.  72.\n",
      "   72.  63.  68.  59.  70.  74.  63.  59.]\n",
      " [ 43.  71.  63.  73.  58.  56.  66. 100.  69.  74.  66.  70.  85.  64.\n",
      "   64.  71.  73.  82.  49.  58.  67.  66.  78.  65.  56.  64.  54.  65.\n",
      "   63.  56.  60.  67.  72.  63.  67.  71.  75.  61.  64.  58.  80.  64.\n",
      "   58.  62.  72.  61.  56.  65.  67.  58.  60.  58.  59.  70.  64.  65.\n",
      "   71.  73.  61.  69.  59.  61.  76.  60.]\n",
      " [ 71.  59.  72.  64.  66.  67.  66.  78.  62.  61.  74.  71.  56.  67.\n",
      "   78.  80.  58.  70.  82.  57.  74.  65.  71.  70.  75.  76.  63.  75.\n",
      "   68.  67.  72.  64.  94.  70.  80.  67.  69. 145.  71.  77.  70.  80.\n",
      "   60.  61.  69.  62.  54.  65.  77.  76.  80.  76.  65.  77.  64.  71.\n",
      "   74.  70.  73.  71.  64.  76.  78.  67.]\n",
      " [ 65.  77.  63.  66.  58.  80.  74.  77.  90.  78.  84.  81.  86.  79.\n",
      "   70.  69.  83.  82.  71.  82.  88.  87.  75.  65.  72.  82.  75.  94.\n",
      "   58.  78.  63.  76.  77.  85.  73.  89.  67.  75.  78.  89.  68.  63.\n",
      "   80.  81.  88.  75.  81.  80. 280. 103.  96.  82.  70.  78.  77.  65.\n",
      "   92.  72.  63.  96.  82.  88.  64.  79.]\n",
      " [179.  79.  74.  77.  62.  67.  74.  68.  77.  73.  64.  55.  63.  79.\n",
      "   74.  71.  67.  62.  68.  74.  80.  56.  72.  69.  90.  66.  72.  63.\n",
      "   55.  65.  77.  94.  61.  71.  57.  57.  72.  70.  68.  68.  72.  64.\n",
      "   79.  76.  69.  82.  74.  72.  53.  58.  56.  69.  85.  62.  57.  55.\n",
      "   71.  58.  91.  58.  85.  80.  63.  73.]\n",
      " [ 69.  65.  69.  69.  54.  57.  66.  76.  70.  53.  61.  80.  63.  66.\n",
      "   64.  65.  80.  71.  64.  67.  75.  74.  72.  75.  64.  59.  52.  68.\n",
      "   65.  75.  73.  89.  60.  72.  69.  77.  73.  71.  61.  94.  61.  56.\n",
      "   77.  67.  67.  70.  65.  81.  68.  74.  76.  81.  64.  56.  83.  82.\n",
      "   51.  69.  63.  58.  53.  77.  71. 173.]]\n"
     ]
    }
   ],
   "source": [
    "print(Keys)"
   ]
  },
  {
   "cell_type": "code",
   "execution_count": 19,
   "id": "5f37bb86",
   "metadata": {},
   "outputs": [
    {
     "name": "stdout",
     "output_type": "stream",
     "text": [
      "S-box\tMax\tMean\tKey\n",
      "S1\t128\t64\t45\n",
      "S2\t292\t78\t59\n",
      "S3\t118\t65\t37\n",
      "S4\t100\t66\t7\n",
      "S5\t145\t71\t37\n",
      "S6\t280\t81\t48\n",
      "S7\t179\t71\t0\n",
      "S8\t173\t70\t63\n"
     ]
    }
   ],
   "source": [
    "maxval = []\n",
    "mean = []\n",
    "keyval = []\n",
    "for i in Keys:\n",
    "    index, value = max(enumerate(i), key=operator.itemgetter(1))\n",
    "    maxval+=[int(value)]\n",
    "    keyval+=[index]\n",
    "    mean+=[int(round(np.mean(i)))]\n",
    "print(\"S-box\"+ \"\\t\" +\"Max\" + \"\\t\" + \"Mean\" + \"\\t\" + \"Key\")\n",
    "for i in range(0,8):\n",
    "    print(\"S\"+ str(i+1) +\"\\t\"+ str(maxval[i]) + \"\\t\" + str(mean[i]) + \"\\t\" + str(keyval[i]))"
   ]
  },
  {
   "cell_type": "markdown",
   "id": "44ac5d0f",
   "metadata": {},
   "source": [
    "## Computing XORs at IN and OUT of S-boxes for characteristic 2"
   ]
  },
  {
   "cell_type": "code",
   "execution_count": 20,
   "id": "871878ae",
   "metadata": {},
   "outputs": [],
   "source": [
    "#list of all ciphertexts in hex as per mapping\n",
    "cipher=[]\n",
    "#read in the output file after encrypting plaintexts from input.txt\n",
    "lines = open(\"ciphertexts2.txt\").read().split(\"\\n\")\n",
    "\n",
    "n=len(lines)\n",
    "for i in range(0,n):\n",
    "  #checking if a ciphertext is not of 16 letters\n",
    "    if(len(lines[i]) == 16):\n",
    "        #temp list\n",
    "        st=[]\n",
    "        for j in range(16):\n",
    "            st+=mapping[lines[i][j]]\n",
    "        cipher+=[st]    \n",
    "#print(cipher[0])"
   ]
  },
  {
   "cell_type": "code",
   "execution_count": 21,
   "id": "f4fa8ad4",
   "metadata": {},
   "outputs": [],
   "source": [
    "#applying inverse final permutation on each 64 (=16*4) bit ciphertext\n",
    "n=len(cipher)\n",
    "ifp_res = []\n",
    "for i in range(0,n):\n",
    "    ifp_res2 = []\n",
    "    for j in range(64):\n",
    "        ifp_res2+=[cipher[i][RFP[j]-1]]\n",
    "    ifp_res+=[ifp_res2]\n",
    "#print(ifp_res2[0:10])"
   ]
  },
  {
   "cell_type": "code",
   "execution_count": 22,
   "id": "e70397e3",
   "metadata": {},
   "outputs": [],
   "source": [
    "#XOR of inverse permuted ciphertext's result\n",
    "ifp_XOR=[]\n",
    "for i in range(0,n//2):\n",
    "    ifp_XOR+= [list(np.bitwise_xor(ifp_res[2*i+1],ifp_res[2*i]))]"
   ]
  },
  {
   "cell_type": "code",
   "execution_count": 23,
   "id": "c99ffb67",
   "metadata": {},
   "outputs": [],
   "source": [
    "#Expansion of R5\n",
    "exp_out=[]\n",
    "for i in range(0,n):\n",
    "    exp_out2=[]\n",
    "    for j in range(0,48):\n",
    "        exp_out2+=[ifp_res[i][exp_d[j]-1]]\n",
    "    exp_out+=[exp_out2]\n",
    "#print(exp_out[0])"
   ]
  },
  {
   "cell_type": "code",
   "execution_count": 24,
   "id": "4d61a7d1",
   "metadata": {},
   "outputs": [],
   "source": [
    "#XOR of expanded outputs to find inputs to s-boxes\n",
    "sbox_in=[]\n",
    "for i in range(0,n//2):\n",
    "    sbox_in+= [list(np.bitwise_xor(exp_out[2*i+1],exp_out[2*i]))]\n",
    "#print(sbox_in[0])            "
   ]
  },
  {
   "cell_type": "code",
   "execution_count": 25,
   "id": "24c5d777",
   "metadata": {},
   "outputs": [],
   "source": [
    "#XOR of L5 and R6 from inverse permuted ciphertexts\n",
    "L5 = [0,0,0,0,0,0,0,0,0,0,0,0,0,0,0,0,0,0,0,0,0,1,0,0,0,0,0,0,0,0,0,0]\n",
    "# print(len(L5))\n",
    "xor_out=[]\n",
    "for i in range(0,len(ifp_XOR)):\n",
    "    xor_out+=[list(np.bitwise_xor(ifp_XOR[i][32:64],L5))]"
   ]
  },
  {
   "cell_type": "code",
   "execution_count": 26,
   "id": "ca7fa2d8",
   "metadata": {},
   "outputs": [],
   "source": [
    "#XOR of outputs after s-boxes\n",
    "sbox_out = []\n",
    "for i in range(0,len(xor_out)):\n",
    "    sbox_out2=[]\n",
    "    for j in range(0,32):\n",
    "        sbox_out2+=[xor_out[i][INV_P[j]-1]]\n",
    "    sbox_out+=[sbox_out2]"
   ]
  },
  {
   "cell_type": "code",
   "execution_count": 27,
   "id": "e622286e",
   "metadata": {},
   "outputs": [],
   "source": [
    "#storing expanded outputs\n",
    "with open(\"exp_out2.txt\",\"w\") as f:\n",
    "    n1 = len(exp_out)\n",
    "    for i in range(0,n1):\n",
    "        if(i%2!=1):\n",
    "            temp=\"\"\n",
    "            for j in exp_out[i]:\n",
    "                temp+=str(j)\n",
    "            f.write(temp+\"\\n\")\n",
    "f.close()"
   ]
  },
  {
   "cell_type": "code",
   "execution_count": 28,
   "id": "d0e6e601",
   "metadata": {},
   "outputs": [],
   "source": [
    "#storing inputs to s-boxes\n",
    "with open(\"sbox_in2.txt\",\"w\") as f:\n",
    "    for i in sbox_in:\n",
    "        temp=\"\"\n",
    "        for j in i:\n",
    "            temp+=str(j)\n",
    "        f.write(temp+\"\\n\")\n",
    "f.close()"
   ]
  },
  {
   "cell_type": "code",
   "execution_count": 29,
   "id": "42b6a349",
   "metadata": {},
   "outputs": [],
   "source": [
    "#storing outputs of s-boxes\n",
    "with open(\"sbox_out2.txt\",\"w\") as f:\n",
    "    for i in sbox_out:\n",
    "        temp=\"\"\n",
    "        for j in i:\n",
    "            temp+=str(j)\n",
    "        f.write(temp+\"\\n\")\n",
    "f.close()"
   ]
  },
  {
   "cell_type": "markdown",
   "id": "af5f6d01",
   "metadata": {},
   "source": [
    "## Finding the Keys for S-Boxes of Round 6 for characteristic 2"
   ]
  },
  {
   "cell_type": "code",
   "execution_count": 30,
   "id": "c8c1dfca",
   "metadata": {},
   "outputs": [],
   "source": [
    "Keys = np.zeros((8,64))"
   ]
  },
  {
   "cell_type": "code",
   "execution_count": 31,
   "id": "7f5086cf",
   "metadata": {},
   "outputs": [],
   "source": [
    "sbox_in=[]\n",
    "sbox_out=[]\n",
    "exp_out=[]\n",
    "sbox_in = open(\"sbox_in2.txt\").read().split(\"\\n\")\n",
    "sbox_out = open(\"sbox_out2.txt\").read().split(\"\\n\")\n",
    "exp_out = open(\"exp_out2.txt\").read().split(\"\\n\")"
   ]
  },
  {
   "cell_type": "code",
   "execution_count": 32,
   "id": "12f7aae6",
   "metadata": {},
   "outputs": [],
   "source": [
    "for i in range(len(sbox_in)):\n",
    "    if sbox_in[i]==\"\":\n",
    "        continue     \n",
    "    for j in range(0,8):\n",
    "        inx = int(sbox_in[i][j*6:j*6+6], 2)\n",
    "        outx = int(sbox_out[i][j*4:j*4+4], 2)\n",
    "        inp_orig = int(exp_out[i][j*6:j*6+6], 2)\n",
    "        for k in range(0,64):\n",
    "            a = bin(k)[2:].zfill(6)\n",
    "            b = bin(k^inx)[2:].zfill(6)  \n",
    "            if outx == sbox[j][int(a[0])*2 + int(a[5])][int(a[4]) + 2 *int(a[3]) + int(a[2]) * 4 + int(a[1])*8]^sbox[j][int(b[0])*2 + int(b[5])][int(b[4]) + 2 *int(b[3]) + int(b[2]) * 4 + int(b[1])*8]:\n",
    "                key_cand = k^inp_orig\n",
    "                Keys[j][key_cand] = Keys[j][key_cand] + 1"
   ]
  },
  {
   "cell_type": "code",
   "execution_count": 33,
   "id": "e29d3fd3",
   "metadata": {
    "scrolled": false
   },
   "outputs": [
    {
     "name": "stdout",
     "output_type": "stream",
     "text": [
      "[[ 51.  67.  73.  73.  73.  55.  62.  71.  66.  72.  71.  70.  62.  63.\n",
      "   60.  69.  59.  64.  75.  81.  72.  65.  58.  58.  77.  78.  51.  77.\n",
      "   84.  80.  58.  71.  60.  73.  79.  57.  71.  71.  61.  77.  65.  68.\n",
      "   79.  59.  61. 154.  66.  56.  58.  73.  67.  72.  74.  61.  60.  81.\n",
      "   71.  64.  72.  77.  71.  77.  73.  60.]\n",
      " [ 74.  65.  56.  61.  71.  76.  57.  75.  65.  75.  67.  67.  78.  69.\n",
      "   67.  73.  65.  88.  82.  81.  58.  70.  73.  79.  57.  56.  55.  48.\n",
      "   72.  65.  66.  67.  66.  73.  79.  78.  67.  58.  57.  67.  72.  63.\n",
      "   58.  72.  85. 100.  81.  72.  64.  67.  77.  71.  71.  68.  74.  91.\n",
      "   66.  63.  79. 150.  57.  66.  66.  70.]\n",
      " [ 72.  61.  71.  72.  71.  64.  73.  61.  76.  71.  61.  84.  66.  67.\n",
      "   63.  67.  71.  77.  69.  86.  51.  69.  56.  74.  75.  74.  72.  79.\n",
      "   59.  75.  70.  74.  63.  70.  74.  56.  65. 143.  64.  67.  67.  66.\n",
      "   67.  63.  53.  81.  64.  78.  74.  66.  66.  67.  58.  66.  67.  73.\n",
      "   69.  57.  52.  63.  70.  76.  63.  59.]\n",
      " [ 71.  71.  69.  66.  62.  48.  95. 304.  72.  57.  73.  63.  87.  59.\n",
      "   60.  58.  72.  59.  65.  75.  62.  68.  64.  75.  96.  68.  59.  74.\n",
      "   63.  62.  74.  66.  56.  62.  72.  55.  75.  64.  78.  75.  98.  90.\n",
      "   68.  73.  85.  72.  53.  64.  75.  65.  70.  98.  84.  83.  66.  70.\n",
      "   76.  71.  76.  50.  65.  60.  54.  74.]\n",
      " [ 71.  67.  76.  79.  71.  63.  56.  92.  56.  60.  77.  73.  68.  68.\n",
      "   83.  66.  70.  78.  72.  71.  69.  66.  74.  75.  81.  71.  79.  86.\n",
      "   74.  74.  70.  68.  81.  61.  72.  57.  75. 157.  69.  89.  82.  76.\n",
      "   69.  63.  71.  78.  84.  71.  76.  66.  79.  73.  66.  73.  66.  68.\n",
      "   55.  67.  67.  78.  64.  65.  74.  66.]\n",
      " [ 77.  55.  70.  71.  69.  65.  72.  90.  72.  60.  70.  96.  78.  78.\n",
      "   60.  76.  80.  77.  71.  66.  72.  78.  77.  61.  65.  68.  61.  90.\n",
      "   82.  64.  68.  72.  82.  73.  61.  68.  71.  58.  78.  70.  67.  55.\n",
      "   79.  73.  88.  87.  79.  60. 299.  91.  67.  81.  77.  68.  69.  67.\n",
      "   84.  67.  68.  62.  82.  67.  75.  56.]\n",
      " [131.  62.  62.  62.  59.  56.  65.  66.  69.  56.  50.  56.  61.  60.\n",
      "   49.  60.  74.  64.  62.  53.  55.  62.  63.  68.  68.  67.  59.  71.\n",
      "   60.  61.  66.  65.  58.  55.  57.  61.  69.  76.  53.  62.  55.  69.\n",
      "   58.  59.  57.  55.  60.  58.  61.  67.  57.  55.  56.  68.  68.  68.\n",
      "   72.  61.  62.  76.  71.  71.  54.  65.]\n",
      " [ 72.  53.  83.  56.  54.  83.  74.  70.  68.  72.  73.  67.  54.  79.\n",
      "   48.  57.  62.  71.  55.  68.  55.  66.  77.  81.  71.  57.  50.  60.\n",
      "   68.  74.  56.  69.  76.  71.  61.  65.  60.  83.  53.  65.  66.  59.\n",
      "   77.  73.  59.  65.  74.  73.  53.  67.  65.  66.  70.  75.  79.  80.\n",
      "   66.  72.  59.  73.  65.  68.  83. 110.]]\n"
     ]
    }
   ],
   "source": [
    "print(Keys)"
   ]
  },
  {
   "cell_type": "code",
   "execution_count": 34,
   "id": "0524d6f6",
   "metadata": {
    "scrolled": false
   },
   "outputs": [
    {
     "name": "stdout",
     "output_type": "stream",
     "text": [
      "S-box\tMax\tMean\tKey\n",
      "S1\t154\t69\t45\n",
      "S2\t150\t71\t59\n",
      "S3\t143\t69\t37\n",
      "S4\t304\t73\t7\n",
      "S5\t157\t73\t37\n",
      "S6\t299\t76\t48\n",
      "S7\t131\t63\t0\n",
      "S8\t110\t68\t63\n"
     ]
    }
   ],
   "source": [
    "maxval = []\n",
    "mean = []\n",
    "keyval = []\n",
    "for i in Keys:\n",
    "    index, value = max(enumerate(i), key=operator.itemgetter(1))\n",
    "    maxval+=[int(value)]\n",
    "    keyval+=[index]\n",
    "    mean+=[int(round(np.mean(i)))]\n",
    "print(\"S-box\"+ \"\\t\" +\"Max\" + \"\\t\" + \"Mean\" + \"\\t\" + \"Key\")\n",
    "for i in range(0,8):\n",
    "    print(\"S\"+ str(i+1) +\"\\t\"+ str(maxval[i]) + \"\\t\" + str(mean[i]) + \"\\t\" + str(keyval[i]))"
   ]
  },
  {
   "cell_type": "markdown",
   "id": "4fe11a96",
   "metadata": {},
   "source": [
    "## Finding the Master Key"
   ]
  },
  {
   "cell_type": "code",
   "execution_count": 35,
   "id": "989410dc",
   "metadata": {},
   "outputs": [
    {
     "name": "stdout",
     "output_type": "stream",
     "text": [
      "X11XX1XX01011X100XX11X11100X0001000X10110100X11X0111X001\n"
     ]
    }
   ],
   "source": [
    "# s_box_key=\"101101110011XXXXXX000111010111110100011100110110\" #Key obtained so far from S boxes\n",
    "s_box_key = \"101101111011XXXXXX000111100101110000000000111111\"\n",
    "Master_key=['X']*56\n",
    "\n",
    "for i in range(len(s_box_key)):\n",
    "    Master_key[pc2[i]-1]=s_box_key[i]             \n",
    "shifts=[1, 1, 2, 2, 2, 2, 2, 2, 1, 2, 2, 2, 2, 2, 2, 1]     \n",
    "for i in range(0,6):\n",
    "    for j in range(shifts[i]):\n",
    "        temp2=Master_key[27]\n",
    "        temp1=Master_key[55]\n",
    "        for k in range(27,0,-1):\n",
    "            Master_key[k]=Master_key[k-1]\n",
    "            Master_key[k+28]=Master_key[k+27]\n",
    "        Master_key[0]=temp2\n",
    "        Master_key[28]=temp1\n",
    "print(\"\".join(Master_key))\n"
   ]
  },
  {
   "cell_type": "markdown",
   "id": "5d4fe9f3",
   "metadata": {},
   "source": [
    "## Generating all possible keys using the obtained Master Key"
   ]
  },
  {
   "cell_type": "code",
   "execution_count": 36,
   "id": "b58bd1f1",
   "metadata": {},
   "outputs": [],
   "source": [
    "#Master key X11XX1XX01011X100XX11X11000X1010010X11110000X11X1101X011\n",
    "possible=[]\n",
    "for i in range(0,2**14):\n",
    "    possible.append(str(i//8192%2)+'11'+str(i//4096%2)+str(i//2048%2)+'1' + str(i//1024%2)+ str(i//512%2)+'01011'+str(i//256%2)+'100'+str(i//128%2) + str(i//64%2)+'11'+str(i//32%2) + '11100'+str(i//16%2) + \"0001000\" + str(i//8%2)+'10110100' + str(i//4%2) + \"11\" + str(i//2%2) + '0111' + str(i%2) + \"001\" + '\\n')\n",
    "# print(len(possible))"
   ]
  },
  {
   "cell_type": "markdown",
   "id": "18a10bd6",
   "metadata": {},
   "source": [
    "## Brute Force to find the Actual Key"
   ]
  },
  {
   "cell_type": "code",
   "execution_count": 37,
   "id": "0b6f809b",
   "metadata": {},
   "outputs": [],
   "source": [
    "def generate_round_keys(k, ro):\n",
    "    l=k[0:28]     \n",
    "    r=k[28:56]  \n",
    "\n",
    "    #binary round keys\n",
    "    kb = []\n",
    "    #hex round keys\n",
    "    kh  = []\n",
    "    for i in range(0,ro): \n",
    "        #shift bits by n using shift table \n",
    "        l = shift_left(l, shift_table[i]) \n",
    "        r = shift_left(r, shift_table[i]) \n",
    "\n",
    "        #merge\n",
    "        mer=l+r \n",
    "\n",
    "        #compress key from 56 to 48 bits using key compression table\n",
    "        kb+=[permute(mer, key_comp, 48)] \n",
    "        kh+=[bin2hex(permute(mer, key_comp, 48))]\n",
    "    return kb"
   ]
  },
  {
   "cell_type": "code",
   "execution_count": 38,
   "id": "39dd5983",
   "metadata": {},
   "outputs": [],
   "source": [
    "def encrypt(pt, kb,ro):  \n",
    "    # Initial Permutation \n",
    "    pt = permute(pt, initial_perm, 64)\n",
    "      \n",
    "    #break into left and right half\n",
    "    l = pt[0:32] \n",
    "    r= pt[32:64] \n",
    "    for i in range(0,ro): \n",
    "        #expand 32 bits to 48 \n",
    "        r_exp = permute(r, exp_d, 48) \n",
    "          \n",
    "        #XOR ith roundkey and r_exp  \n",
    "        r_xor = xor(r_exp,kb[i]) \n",
    "\n",
    "        #substituting the value from s-box table by calculating row and column  \n",
    "        sbox_st = \"\" \n",
    "        for j in range(0,8): \n",
    "            row = bin2dec(int(r_xor[j*6] + r_xor[j*6+5])) \n",
    "            col = bin2dec(int(r_xor[j*6+1] + r_xor[j*6+2] + r_xor[j*6+3] + r_xor[j*6+4])) \n",
    "            value = sbox[j][row][col] \n",
    "            sbox_st = sbox_st+dec2bin(value) \n",
    "              \n",
    "        #rearrange bits   \n",
    "        sbox_st = permute(sbox_st, per, 32) \n",
    "          \n",
    "        #XOR left half and sbox_st \n",
    "        res= xor(l, sbox_st) \n",
    "        l = res        \n",
    "        if(i!=5): \n",
    "            temp = l\n",
    "            l = r\n",
    "            r = temp\n",
    "  \n",
    "    #merge\n",
    "    mer=l+r \n",
    "      \n",
    "    #rearrange bits to get ciphertext \n",
    "    ciphertext = permute(mer, final_perm, 64) \n",
    "    return ciphertext"
   ]
  },
  {
   "cell_type": "code",
   "execution_count": 39,
   "id": "7f39dfd0",
   "metadata": {},
   "outputs": [
    {
     "name": "stdout",
     "output_type": "stream",
     "text": [
      "The Key is: 01101110010111100111101110000001000110110100011101110001\n",
      "\n"
     ]
    }
   ],
   "source": [
    "bin_pt = \"\"\n",
    "for i in \"ffffffffffffffff\":\n",
    "    bin_pt += f2u_mapping[i]\n",
    "bin_ct = \"\"\n",
    "for i in \"emhfgphiedfgkfog\":\n",
    "    bin_ct += f2u_mapping[i]\n",
    "    \n",
    "for k in possible:\n",
    "    kb = generate_round_keys(k,6)\n",
    "    if(encrypt(bin_pt,kb,6) == bin_ct):\n",
    "        # required = k\n",
    "        print(\"The Key is: \" + k)\n",
    "        break"
   ]
  },
  {
   "cell_type": "code",
   "execution_count": null,
   "id": "562a4041",
   "metadata": {},
   "outputs": [],
   "source": []
  },
  {
   "cell_type": "markdown",
   "id": "ad411b1c",
   "metadata": {},
   "source": [
    "## Finding the keys for All Rounds using the Actual Key"
   ]
  },
  {
   "cell_type": "code",
   "execution_count": 40,
   "id": "e9235cfb",
   "metadata": {},
   "outputs": [
    {
     "name": "stdout",
     "output_type": "stream",
     "text": [
      "Round 1  111111000100111100000111101011001100011000101100\n",
      "Round 2  011011110011111101100010000100110101110010101000\n",
      "Round 3  111010101111010011101101010010000011100100110101\n",
      "Round 4  110110011100011101011010101000110110100010111100\n",
      "Round 5  011001001101101110111011011000010001101110010011\n",
      "Round 6  101101111011100101000111100101110000000000111111\n"
     ]
    }
   ],
   "source": [
    "key='01101110010111100111101110000001000110110100011101110001'\n",
    "l = key[0:28]     \n",
    "r = key[28:56]  \n",
    "\n",
    "#binary round keys\n",
    "kb = []\n",
    "for i in range(0,6): \n",
    "    #shift bits by n using shift table \n",
    "    l = shift_left(l, shift_table[i]) \n",
    "    r = shift_left(r, shift_table[i]) \n",
    "\n",
    "    #merge\n",
    "    mer=l+r \n",
    "\n",
    "    #compress key from 56 to 48 bits using key compression table\n",
    "    kb.append(permute(mer, key_comp, 48))\n",
    "    print(\"Round \"  + str(i+1) +\"  \"+kb[i])\n"
   ]
  }
 ],
 "metadata": {
  "kernelspec": {
   "display_name": "Python 3 (ipykernel)",
   "language": "python",
   "name": "python3"
  },
  "language_info": {
   "codemirror_mode": {
    "name": "ipython",
    "version": 3
   },
   "file_extension": ".py",
   "mimetype": "text/x-python",
   "name": "python",
   "nbconvert_exporter": "python",
   "pygments_lexer": "ipython3",
   "version": "3.8.10"
  }
 },
 "nbformat": 4,
 "nbformat_minor": 5
}
